{
 "cells": [
  {
   "cell_type": "code",
   "execution_count": 1,
   "id": "4b365c3e",
   "metadata": {},
   "outputs": [
    {
     "name": "stdout",
     "output_type": "stream",
     "text": [
      "Requirement already satisfied: torch in c:\\users\\kbsha\\appdata\\local\\programs\\python\\python313\\lib\\site-packages (from -r requirements.txt (line 1)) (2.7.0)\n",
      "Requirement already satisfied: matplotlib in c:\\users\\kbsha\\appdata\\local\\programs\\python\\python313\\lib\\site-packages (from -r requirements.txt (line 2)) (3.10.3)\n",
      "Requirement already satisfied: numpy in c:\\users\\kbsha\\appdata\\local\\programs\\python\\python313\\lib\\site-packages (from -r requirements.txt (line 3)) (2.2.5)\n",
      "Requirement already satisfied: seaborn in c:\\users\\kbsha\\appdata\\local\\programs\\python\\python313\\lib\\site-packages (from -r requirements.txt (line 4)) (0.13.2)\n",
      "Requirement already satisfied: filelock in c:\\users\\kbsha\\appdata\\local\\programs\\python\\python313\\lib\\site-packages (from torch->-r requirements.txt (line 1)) (3.18.0)\n",
      "Requirement already satisfied: typing-extensions>=4.10.0 in c:\\users\\kbsha\\appdata\\local\\programs\\python\\python313\\lib\\site-packages (from torch->-r requirements.txt (line 1)) (4.13.2)\n",
      "Requirement already satisfied: sympy>=1.13.3 in c:\\users\\kbsha\\appdata\\local\\programs\\python\\python313\\lib\\site-packages (from torch->-r requirements.txt (line 1)) (1.14.0)\n",
      "Requirement already satisfied: networkx in c:\\users\\kbsha\\appdata\\local\\programs\\python\\python313\\lib\\site-packages (from torch->-r requirements.txt (line 1)) (3.4.2)\n",
      "Requirement already satisfied: jinja2 in c:\\users\\kbsha\\appdata\\local\\programs\\python\\python313\\lib\\site-packages (from torch->-r requirements.txt (line 1)) (3.1.6)\n",
      "Requirement already satisfied: fsspec in c:\\users\\kbsha\\appdata\\local\\programs\\python\\python313\\lib\\site-packages (from torch->-r requirements.txt (line 1)) (2025.3.2)\n",
      "Requirement already satisfied: setuptools in c:\\users\\kbsha\\appdata\\local\\programs\\python\\python313\\lib\\site-packages (from torch->-r requirements.txt (line 1)) (80.4.0)\n",
      "Requirement already satisfied: contourpy>=1.0.1 in c:\\users\\kbsha\\appdata\\local\\programs\\python\\python313\\lib\\site-packages (from matplotlib->-r requirements.txt (line 2)) (1.3.2)\n",
      "Requirement already satisfied: cycler>=0.10 in c:\\users\\kbsha\\appdata\\local\\programs\\python\\python313\\lib\\site-packages (from matplotlib->-r requirements.txt (line 2)) (0.12.1)\n",
      "Requirement already satisfied: fonttools>=4.22.0 in c:\\users\\kbsha\\appdata\\local\\programs\\python\\python313\\lib\\site-packages (from matplotlib->-r requirements.txt (line 2)) (4.58.0)\n",
      "Requirement already satisfied: kiwisolver>=1.3.1 in c:\\users\\kbsha\\appdata\\local\\programs\\python\\python313\\lib\\site-packages (from matplotlib->-r requirements.txt (line 2)) (1.4.8)\n",
      "Requirement already satisfied: packaging>=20.0 in c:\\users\\kbsha\\appdata\\roaming\\python\\python313\\site-packages (from matplotlib->-r requirements.txt (line 2)) (24.2)\n",
      "Requirement already satisfied: pillow>=8 in c:\\users\\kbsha\\appdata\\local\\programs\\python\\python313\\lib\\site-packages (from matplotlib->-r requirements.txt (line 2)) (11.2.1)\n",
      "Requirement already satisfied: pyparsing>=2.3.1 in c:\\users\\kbsha\\appdata\\local\\programs\\python\\python313\\lib\\site-packages (from matplotlib->-r requirements.txt (line 2)) (3.2.3)\n",
      "Requirement already satisfied: python-dateutil>=2.7 in c:\\users\\kbsha\\appdata\\roaming\\python\\python313\\site-packages (from matplotlib->-r requirements.txt (line 2)) (2.9.0.post0)\n",
      "Requirement already satisfied: pandas>=1.2 in c:\\users\\kbsha\\appdata\\local\\programs\\python\\python313\\lib\\site-packages (from seaborn->-r requirements.txt (line 4)) (2.2.3)\n",
      "Requirement already satisfied: pytz>=2020.1 in c:\\users\\kbsha\\appdata\\local\\programs\\python\\python313\\lib\\site-packages (from pandas>=1.2->seaborn->-r requirements.txt (line 4)) (2025.2)\n",
      "Requirement already satisfied: tzdata>=2022.7 in c:\\users\\kbsha\\appdata\\local\\programs\\python\\python313\\lib\\site-packages (from pandas>=1.2->seaborn->-r requirements.txt (line 4)) (2025.2)\n",
      "Requirement already satisfied: six>=1.5 in c:\\users\\kbsha\\appdata\\roaming\\python\\python313\\site-packages (from python-dateutil>=2.7->matplotlib->-r requirements.txt (line 2)) (1.17.0)\n",
      "Requirement already satisfied: mpmath<1.4,>=1.1.0 in c:\\users\\kbsha\\appdata\\local\\programs\\python\\python313\\lib\\site-packages (from sympy>=1.13.3->torch->-r requirements.txt (line 1)) (1.3.0)\n",
      "Requirement already satisfied: MarkupSafe>=2.0 in c:\\users\\kbsha\\appdata\\local\\programs\\python\\python313\\lib\\site-packages (from jinja2->torch->-r requirements.txt (line 1)) (3.0.2)\n",
      "Note: you may need to restart the kernel to use updated packages.\n"
     ]
    },
    {
     "name": "stderr",
     "output_type": "stream",
     "text": [
      "\n",
      "[notice] A new release of pip is available: 24.2 -> 25.1.1\n",
      "[notice] To update, run: python.exe -m pip install --upgrade pip\n"
     ]
    }
   ],
   "source": [
    "pip install -r \"requirements.txt\""
   ]
  },
  {
   "cell_type": "markdown",
   "id": "89842233",
   "metadata": {},
   "source": [
    "### 1.Defining Data and Model"
   ]
  },
  {
   "cell_type": "code",
   "execution_count": 2,
   "id": "a22377ac",
   "metadata": {},
   "outputs": [],
   "source": [
    "#importing the required modules\n",
    "from torch import nn\n",
    "import torch\n",
    "from matplotlib import pyplot as plt\n",
    "import seaborn as sns"
   ]
  },
  {
   "cell_type": "code",
   "execution_count": 3,
   "id": "730f381d",
   "metadata": {},
   "outputs": [],
   "source": [
    "#defining the function to create a pytorch model\n",
    "class LinearRegression(nn.Module):\n",
    "    def __init__(self):\n",
    "        super().__init__()\n",
    "        self.weight = nn.Parameter(torch.randn(1, dtype=torch.float32),requires_grad=True)\n",
    "        self.bias = nn.Parameter(torch.randn(1,dtype=torch.float32),requires_grad=True)\n",
    "    def forward(self, x:torch.Tensor):\n",
    "        return self.weight * x + self.bias"
   ]
  },
  {
   "cell_type": "code",
   "execution_count": 4,
   "id": "ad90ba90",
   "metadata": {},
   "outputs": [
    {
     "data": {
      "text/plain": [
       "[Parameter containing:\n",
       " tensor([0.7149], requires_grad=True),\n",
       " Parameter containing:\n",
       " tensor([0.3906], requires_grad=True)]"
      ]
     },
     "execution_count": 4,
     "metadata": {},
     "output_type": "execute_result"
    }
   ],
   "source": [
    "#set manula seed\n",
    "torch.manual_seed =43\n",
    "\n",
    "#create instance of Model class\n",
    "model0 = LinearRegression()\n",
    "\n",
    "#check parameters\n",
    "list(model0.parameters())"
   ]
  },
  {
   "cell_type": "code",
   "execution_count": 25,
   "id": "cdc1a5b2",
   "metadata": {},
   "outputs": [
    {
     "data": {
      "text/plain": [
       "torch.Size([50, 1])"
      ]
     },
     "execution_count": 25,
     "metadata": {},
     "output_type": "execute_result"
    }
   ],
   "source": [
    "# Now getting the training data\n",
    "X = torch.arange(0,1,0.02).unsqueeze(1).float()\n",
    "X.shape"
   ]
  },
  {
   "cell_type": "code",
   "execution_count": 30,
   "id": "1a6bca5f",
   "metadata": {},
   "outputs": [
    {
     "data": {
      "text/plain": [
       "torch.Size([50, 1])"
      ]
     },
     "execution_count": 30,
     "metadata": {},
     "output_type": "execute_result"
    }
   ],
   "source": [
    "#Generating y value from X\n",
    "Y = 0.5*X+0.01\n",
    "Y.shape"
   ]
  },
  {
   "cell_type": "code",
   "execution_count": 32,
   "id": "2efd4c2b",
   "metadata": {},
   "outputs": [],
   "source": [
    "# Now doing the train-test split\n",
    "x_train,y_train = X[:40],Y[:40]\n",
    "x_test,y_test = X[40:],Y[40:]"
   ]
  },
  {
   "cell_type": "markdown",
   "id": "3c38df68",
   "metadata": {},
   "source": [
    "### 2.Visualization"
   ]
  },
  {
   "cell_type": "code",
   "execution_count": null,
   "id": "a6a6f0a2",
   "metadata": {},
   "outputs": [
    {
     "data": {
      "image/png": "[encoded data removed]",
      "text/plain": [
       "<Figure size 640x480 with 1 Axes>"
      ]
     },
     "metadata": {},
     "output_type": "display_data"
    }
   ],
   "source": [
    "#plotting the data\n",
    "plt.plot(x_train,y_train, 'bo', label='train')\n",
    "plt.plot(x_test,y_test, 'ro', label='test')\n",
    "plt.xlabel(\"X\")\n",
    "plt.ylabel(\"Y\")\n",
    "plt.title('Train and Test data')\n",
    "plt.legend({'Training Data': 'blue', 'Testing Data': 'red'})\n",
    "plt.show()"
   ]
  },
  {
   "cell_type": "code",
   "execution_count": 34,
   "id": "d444034c",
   "metadata": {},
   "outputs": [
    {
     "data": {
      "text/plain": [
       "OrderedDict([('weight', tensor([11.2312])), ('bias', tensor([2.4036]))])"
      ]
     },
     "execution_count": 34,
     "metadata": {},
     "output_type": "execute_result"
    }
   ],
   "source": [
    "#checking the model params\n",
    "model0.state_dict()"
   ]
  },
  {
   "cell_type": "markdown",
   "id": "ea3bc4f4",
   "metadata": {},
   "source": [
    "### 3.Definig the Training Loop"
   ]
  },
  {
   "cell_type": "code",
   "execution_count": 44,
   "id": "96a6deb7",
   "metadata": {},
   "outputs": [],
   "source": [
    "#defining the loss function and optimizer\n",
    "loss_fn = nn.L1Loss()\n",
    "#defining the optimizer\n",
    "optimizer = torch.optim.SGD(model0.parameters(),lr=0.08)\n",
    "#defining the number of epochs\n",
    "epochs = 100"
   ]
  },
  {
   "cell_type": "code",
   "execution_count": 41,
   "id": "0a5b6be7",
   "metadata": {},
   "outputs": [
    {
     "name": "stdout",
     "output_type": "stream",
     "text": [
      "Epoch: 0 | MAE Train Loss: 4.274575233459473 | MAE Test Loss: 9.182809829711914 \n",
      "Epoch: 10 | MAE Train Loss: 3.708594799041748 | MAE Test Loss: 8.516761779785156 \n",
      "Epoch: 20 | MAE Train Loss: 3.2338955402374268 | MAE Test Loss: 7.901467800140381 \n",
      "Epoch: 30 | MAE Train Loss: 2.8549790382385254 | MAE Test Loss: 7.346698760986328 \n",
      "Epoch: 40 | MAE Train Loss: 2.5578160285949707 | MAE Test Loss: 6.846426486968994 \n",
      "Epoch: 50 | MAE Train Loss: 2.323430299758911 | MAE Test Loss: 6.39961576461792 \n",
      "Epoch: 60 | MAE Train Loss: 2.139223575592041 | MAE Test Loss: 6.0020246505737305 \n",
      "Epoch: 70 | MAE Train Loss: 1.9947569370269775 | MAE Test Loss: 5.6458845138549805 \n",
      "Epoch: 80 | MAE Train Loss: 1.8804515600204468 | MAE Test Loss: 5.332087516784668 \n",
      "Epoch: 90 | MAE Train Loss: 1.7927172183990479 | MAE Test Loss: 5.0552802085876465 \n"
     ]
    }
   ],
   "source": [
    "torch.manual_seed = 30\n",
    "# Set the number of epochs (how many times the model will pass over the training data)\n",
    "epochs = 100\n",
    "\n",
    "# Create empty loss lists to track values\n",
    "train_loss_values = []\n",
    "test_loss_values = []\n",
    "epoch_count = []\n",
    "\n",
    "for epoch in range(epochs):\n",
    "    ### Training\n",
    "\n",
    "    # Put model in training mode (this is the default state of a model)\n",
    "    model0.train()\n",
    "\n",
    "    # 1. Forward pass on train data using the forward() method inside \n",
    "    y_pred = model0(x_train)\n",
    "    # print(y_pred)\n",
    "\n",
    "    # 2. Calculate the loss (how different are our models predictions to the ground truth)\n",
    "    loss = loss_fn(y_pred, y_train)\n",
    "\n",
    "    # 3. Zero grad of the optimizer\n",
    "    optimizer.zero_grad()\n",
    "\n",
    "    # 4. Loss backwards\n",
    "    loss.backward()\n",
    "\n",
    "    # 5. Progress the optimizer\n",
    "    optimizer.step()\n",
    "\n",
    "    ### Testing\n",
    "\n",
    "    # Put the model in evaluation mode\n",
    "    model0.eval()\n",
    "\n",
    "    with torch.inference_mode():\n",
    "      # 1. Forward pass on test data\n",
    "      test_pred = model0(x_test)\n",
    "\n",
    "      # 2. Caculate loss on test data\n",
    "      test_loss = loss_fn(test_pred, y_test.type(torch.float)) # predictions come in torch.float datatype, so comparisons need to be done with tensors of the same type\n",
    "\n",
    "      # Print out what's happening\n",
    "      if epoch % 10 == 0:\n",
    "            epoch_count.append(epoch)\n",
    "            train_loss_values.append(loss.detach().numpy())\n",
    "            test_loss_values.append(test_loss.detach().numpy())\n",
    "            print(f\"Epoch: {epoch} | MAE Train Loss: {loss} | MAE Test Loss: {test_loss} \")"
   ]
  },
  {
   "cell_type": "code",
   "execution_count": 42,
   "id": "08f26ac4",
   "metadata": {},
   "outputs": [],
   "source": [
    "#creating training loop\n",
    "def train(model,loss_fn,optimizer,x_train,y_train,epochs):\n",
    "    final_loss =[]\n",
    "    final_params =[]\n",
    "    for epoch in range(epochs):\n",
    "        #setting the model to training mode\n",
    "        model.train()\n",
    "\n",
    "        #1.performing the forward pass \n",
    "        y_pred = model(x_train)\n",
    "\n",
    "        #2.calculate the loss \n",
    "        loss = loss_fn(y_pred,y_train)\n",
    "\n",
    "        #3.Zero out gradients\n",
    "        optimizer.zero_grad()\n",
    "\n",
    "        #4.Loss Backwards\n",
    "        loss.backward()\n",
    "\n",
    "        #5.progress the optimizer\n",
    "        optimizer.step()\n",
    "        final_loss.append(loss)\n",
    "    return final_loss\n"
   ]
  },
  {
   "cell_type": "code",
   "execution_count": 45,
   "id": "1251867a",
   "metadata": {},
   "outputs": [
    {
     "data": {
      "text/plain": [
       "[tensor(1.4186, grad_fn=<MeanBackward0>),\n",
       " tensor(1.4155, grad_fn=<MeanBackward0>),\n",
       " tensor(1.4128, grad_fn=<MeanBackward0>),\n",
       " tensor(1.4100, grad_fn=<MeanBackward0>),\n",
       " tensor(1.4072, grad_fn=<MeanBackward0>),\n",
       " tensor(1.4044, grad_fn=<MeanBackward0>),\n",
       " tensor(1.4016, grad_fn=<MeanBackward0>),\n",
       " tensor(1.3988, grad_fn=<MeanBackward0>),\n",
       " tensor(1.3960, grad_fn=<MeanBackward0>),\n",
       " tensor(1.3932, grad_fn=<MeanBackward0>),\n",
       " tensor(1.3904, grad_fn=<MeanBackward0>),\n",
       " tensor(1.3876, grad_fn=<MeanBackward0>),\n",
       " tensor(1.3848, grad_fn=<MeanBackward0>),\n",
       " tensor(1.3820, grad_fn=<MeanBackward0>),\n",
       " tensor(1.3793, grad_fn=<MeanBackward0>),\n",
       " tensor(1.3765, grad_fn=<MeanBackward0>),\n",
       " tensor(1.3737, grad_fn=<MeanBackward0>),\n",
       " tensor(1.3709, grad_fn=<MeanBackward0>),\n",
       " tensor(1.3681, grad_fn=<MeanBackward0>),\n",
       " tensor(1.3653, grad_fn=<MeanBackward0>),\n",
       " tensor(1.3625, grad_fn=<MeanBackward0>),\n",
       " tensor(1.3597, grad_fn=<MeanBackward0>),\n",
       " tensor(1.3569, grad_fn=<MeanBackward0>),\n",
       " tensor(1.3541, grad_fn=<MeanBackward0>),\n",
       " tensor(1.3513, grad_fn=<MeanBackward0>),\n",
       " tensor(1.3485, grad_fn=<MeanBackward0>),\n",
       " tensor(1.3457, grad_fn=<MeanBackward0>),\n",
       " tensor(1.3430, grad_fn=<MeanBackward0>),\n",
       " tensor(1.3402, grad_fn=<MeanBackward0>),\n",
       " tensor(1.3374, grad_fn=<MeanBackward0>),\n",
       " tensor(1.3346, grad_fn=<MeanBackward0>),\n",
       " tensor(1.3318, grad_fn=<MeanBackward0>),\n",
       " tensor(1.3290, grad_fn=<MeanBackward0>),\n",
       " tensor(1.3262, grad_fn=<MeanBackward0>),\n",
       " tensor(1.3234, grad_fn=<MeanBackward0>),\n",
       " tensor(1.3206, grad_fn=<MeanBackward0>),\n",
       " tensor(1.3178, grad_fn=<MeanBackward0>),\n",
       " tensor(1.3150, grad_fn=<MeanBackward0>),\n",
       " tensor(1.3122, grad_fn=<MeanBackward0>),\n",
       " tensor(1.3095, grad_fn=<MeanBackward0>),\n",
       " tensor(1.3067, grad_fn=<MeanBackward0>),\n",
       " tensor(1.3039, grad_fn=<MeanBackward0>),\n",
       " tensor(1.3011, grad_fn=<MeanBackward0>),\n",
       " tensor(1.2983, grad_fn=<MeanBackward0>),\n",
       " tensor(1.2955, grad_fn=<MeanBackward0>),\n",
       " tensor(1.2927, grad_fn=<MeanBackward0>),\n",
       " tensor(1.2899, grad_fn=<MeanBackward0>),\n",
       " tensor(1.2871, grad_fn=<MeanBackward0>),\n",
       " tensor(1.2843, grad_fn=<MeanBackward0>),\n",
       " tensor(1.2815, grad_fn=<MeanBackward0>),\n",
       " tensor(1.2787, grad_fn=<MeanBackward0>),\n",
       " tensor(1.2759, grad_fn=<MeanBackward0>),\n",
       " tensor(1.2732, grad_fn=<MeanBackward0>),\n",
       " tensor(1.2704, grad_fn=<MeanBackward0>),\n",
       " tensor(1.2676, grad_fn=<MeanBackward0>),\n",
       " tensor(1.2648, grad_fn=<MeanBackward0>),\n",
       " tensor(1.2620, grad_fn=<MeanBackward0>),\n",
       " tensor(1.2592, grad_fn=<MeanBackward0>),\n",
       " tensor(1.2564, grad_fn=<MeanBackward0>),\n",
       " tensor(1.2536, grad_fn=<MeanBackward0>),\n",
       " tensor(1.2508, grad_fn=<MeanBackward0>),\n",
       " tensor(1.2480, grad_fn=<MeanBackward0>),\n",
       " tensor(1.2452, grad_fn=<MeanBackward0>),\n",
       " tensor(1.2424, grad_fn=<MeanBackward0>),\n",
       " tensor(1.2397, grad_fn=<MeanBackward0>),\n",
       " tensor(1.2369, grad_fn=<MeanBackward0>),\n",
       " tensor(1.2341, grad_fn=<MeanBackward0>),\n",
       " tensor(1.2313, grad_fn=<MeanBackward0>),\n",
       " tensor(1.2285, grad_fn=<MeanBackward0>),\n",
       " tensor(1.2257, grad_fn=<MeanBackward0>),\n",
       " tensor(1.2230, grad_fn=<MeanBackward0>),\n",
       " tensor(1.2202, grad_fn=<MeanBackward0>),\n",
       " tensor(1.2175, grad_fn=<MeanBackward0>),\n",
       " tensor(1.2147, grad_fn=<MeanBackward0>),\n",
       " tensor(1.2120, grad_fn=<MeanBackward0>),\n",
       " tensor(1.2092, grad_fn=<MeanBackward0>),\n",
       " tensor(1.2065, grad_fn=<MeanBackward0>),\n",
       " tensor(1.2038, grad_fn=<MeanBackward0>),\n",
       " tensor(1.2010, grad_fn=<MeanBackward0>),\n",
       " tensor(1.1983, grad_fn=<MeanBackward0>),\n",
       " tensor(1.1955, grad_fn=<MeanBackward0>),\n",
       " tensor(1.1928, grad_fn=<MeanBackward0>),\n",
       " tensor(1.1900, grad_fn=<MeanBackward0>),\n",
       " tensor(1.1873, grad_fn=<MeanBackward0>),\n",
       " tensor(1.1845, grad_fn=<MeanBackward0>),\n",
       " tensor(1.1818, grad_fn=<MeanBackward0>),\n",
       " tensor(1.1790, grad_fn=<MeanBackward0>),\n",
       " tensor(1.1763, grad_fn=<MeanBackward0>),\n",
       " tensor(1.1736, grad_fn=<MeanBackward0>),\n",
       " tensor(1.1708, grad_fn=<MeanBackward0>),\n",
       " tensor(1.1681, grad_fn=<MeanBackward0>),\n",
       " tensor(1.1653, grad_fn=<MeanBackward0>),\n",
       " tensor(1.1625, grad_fn=<MeanBackward0>),\n",
       " tensor(1.1598, grad_fn=<MeanBackward0>),\n",
       " tensor(1.1570, grad_fn=<MeanBackward0>),\n",
       " tensor(1.1543, grad_fn=<MeanBackward0>),\n",
       " tensor(1.1515, grad_fn=<MeanBackward0>),\n",
       " tensor(1.1488, grad_fn=<MeanBackward0>),\n",
       " tensor(1.1461, grad_fn=<MeanBackward0>),\n",
       " tensor(1.1433, grad_fn=<MeanBackward0>)]"
      ]
     },
     "execution_count": 45,
     "metadata": {},
     "output_type": "execute_result"
    }
   ],
   "source": [
    "train(model0,loss_fn,optimizer,x_train,y_train,epochs)"
   ]
  },
  {
   "cell_type": "markdown",
   "id": "151dd9e2",
   "metadata": {},
   "source": [
    "### 4.Saving the Model"
   ]
  },
  {
   "cell_type": "code",
   "execution_count": 47,
   "id": "e2795f18",
   "metadata": {},
   "outputs": [
    {
     "data": {
      "text/plain": [
       "WindowsPath('models/saved_model_0.pth')"
      ]
     },
     "execution_count": 47,
     "metadata": {},
     "output_type": "execute_result"
    }
   ],
   "source": [
    "#saving the model \n",
    "from pathlib import Path\n",
    "MODEL_PATH = Path(\"models\")\n",
    "MODEL_PATH.mkdir(parents=True, exist_ok=True)\n",
    "\n",
    "#defining the Model Name\n",
    "MODEL_NAME = \"saved_model_0.pth\"\n",
    "\n",
    "#Final Model Save Path\n",
    "final_path = MODEL_PATH/MODEL_NAME\n",
    "final_path"
   ]
  },
  {
   "cell_type": "code",
   "execution_count": 48,
   "id": "bcc80f09",
   "metadata": {},
   "outputs": [],
   "source": [
    "#Now Saving the Model\n",
    "torch.save(obj=model0.state_dict(),f=final_path)"
   ]
  },
  {
   "cell_type": "markdown",
   "id": "d990d4bf",
   "metadata": {},
   "source": [
    "### 5.Loading the Saved Model"
   ]
  },
  {
   "cell_type": "code",
   "execution_count": 53,
   "id": "e1ff287b",
   "metadata": {},
   "outputs": [
    {
     "data": {
      "text/plain": [
       "OrderedDict([('weight', tensor([0.8443])), ('bias', tensor([1.4505]))])"
      ]
     },
     "execution_count": 53,
     "metadata": {},
     "output_type": "execute_result"
    }
   ],
   "source": [
    "#For loading the model we will first have to create the model class instance\n",
    "loaded_model_0 = LinearRegression()\n",
    "\n",
    "#Check the state_dict\n",
    "loaded_model_0.state_dict()"
   ]
  },
  {
   "cell_type": "code",
   "execution_count": 54,
   "id": "a79157f1",
   "metadata": {},
   "outputs": [
    {
     "name": "stderr",
     "output_type": "stream",
     "text": [
      "<>:2: SyntaxWarning: invalid escape sequence '\\D'\n",
      "<>:2: SyntaxWarning: invalid escape sequence '\\D'\n",
      "C:\\Users\\kbsha\\AppData\\Local\\Temp\\ipykernel_6604\\2117993992.py:2: SyntaxWarning: invalid escape sequence '\\D'\n",
      "  loaded_model_0.load_state_dict(torch.load(\"D:\\Deep Learning\\PyTorch Practise\\models\\saved_model_0.pth\"))\n"
     ]
    },
    {
     "data": {
      "text/plain": [
       "<All keys matched successfully>"
      ]
     },
     "execution_count": 54,
     "metadata": {},
     "output_type": "execute_result"
    }
   ],
   "source": [
    "# Now updating the state dict \n",
    "loaded_model_0.load_state_dict(torch.load(\"D:\\Deep Learning\\PyTorch Practise\\models\\saved_model_0.pth\"))"
   ]
  },
  {
   "cell_type": "code",
   "execution_count": null,
   "id": "ab477682",
   "metadata": {},
   "outputs": [
    {
     "data": {
      "text/plain": [
       "tensor([[2.5680],\n",
       "        [2.6915],\n",
       "        [2.8150],\n",
       "        [2.9385],\n",
       "        [3.0620],\n",
       "        [3.1855],\n",
       "        [3.3090],\n",
       "        [3.4325],\n",
       "        [3.5560],\n",
       "        [3.6795]], grad_fn=<AddBackward0>)"
      ]
     },
     "execution_count": 63,
     "metadata": {},
     "output_type": "execute_result"
    }
   ],
   "source": [
    "#Making Predictions using the Loaded model\n",
    "loaded_model_0(x_test)"
   ]
  },
  {
   "cell_type": "code",
   "execution_count": null,
   "id": "09f59f14",
   "metadata": {},
   "outputs": [
    {
     "data": {
      "text/plain": [
       "tensor([[2.5680],\n",
       "        [2.6915],\n",
       "        [2.8150],\n",
       "        [2.9385],\n",
       "        [3.0620],\n",
       "        [3.1855],\n",
       "        [3.3090],\n",
       "        [3.4325],\n",
       "        [3.5560],\n",
       "        [3.6795]], grad_fn=<AddBackward0>)"
      ]
     },
     "execution_count": 64,
     "metadata": {},
     "output_type": "execute_result"
    }
   ],
   "source": [
    "#Making Predictions using original model\n",
    "model0(x_test)"
   ]
  },
  {
   "cell_type": "markdown",
   "id": "9ea3d36b",
   "metadata": {},
   "source": [
    "### 6.Revision"
   ]
  },
  {
   "cell_type": "code",
   "execution_count": 65,
   "id": "50378151",
   "metadata": {},
   "outputs": [],
   "source": [
    "#IMport Modules\n",
    "import torch\n",
    "from matplotlib import pyplot\n",
    "from torch import nn"
   ]
  },
  {
   "cell_type": "code",
   "execution_count": 66,
   "id": "602cca61",
   "metadata": {},
   "outputs": [
    {
     "data": {
      "text/plain": [
       "'2.7.0+cpu'"
      ]
     },
     "execution_count": 66,
     "metadata": {},
     "output_type": "execute_result"
    }
   ],
   "source": [
    "torch.__version__"
   ]
  },
  {
   "cell_type": "code",
   "execution_count": 68,
   "id": "517f5793",
   "metadata": {},
   "outputs": [
    {
     "name": "stdout",
     "output_type": "stream",
     "text": [
      "cpu\n"
     ]
    }
   ],
   "source": [
    "#device agnostic code\n",
    "device = \"cude\" if torch.cuda.is_available() else \"cpu\"\n",
    "print(device)"
   ]
  },
  {
   "cell_type": "code",
   "execution_count": 75,
   "id": "5e54c927",
   "metadata": {},
   "outputs": [],
   "source": [
    "#Now reading the data\n",
    "X= torch.arange(0,1,0.02).unsqueeze(1)\n",
    "Y = 0.7*(X)+0.3"
   ]
  },
  {
   "cell_type": "code",
   "execution_count": null,
   "id": "0209d8aa",
   "metadata": {},
   "outputs": [],
   "source": [
    "#split the train-split\n",
    "train_split = int(0.8 * len(X))\n",
    "x_train = X[:train_split]\n",
    "y_train = Y[:train_split]\n",
    "\n",
    "x_test = X[train_split:]\n",
    "y_test = Y[train_split:]"
   ]
  },
  {
   "cell_type": "code",
   "execution_count": 87,
   "id": "7bb79755",
   "metadata": {},
   "outputs": [
    {
     "data": {
      "image/png": "[encoded data removed]",
      "text/plain": [
       "<Figure size 640x480 with 1 Axes>"
      ]
     },
     "metadata": {},
     "output_type": "display_data"
    }
   ],
   "source": [
    "plt.plot(x_train,y_train, 'bo', label='train')\n",
    "plt.plot(x_test,y_test, 'ro', label='test')\n",
    "plt.xlabel(\"X\")\n",
    "plt.ylabel(\"Y\")\n",
    "plt.title('Train and Test data')\n",
    "plt.legend({'Training Data': 'blue', 'Testing Data': 'red'})\n",
    "plt.show()"
   ]
  },
  {
   "cell_type": "code",
   "execution_count": null,
   "id": "e189a06e",
   "metadata": {},
   "outputs": [],
   "source": [
    "class LinearRegressionV2(nn.Module):\n",
    "    def __init__(self):\n",
    "        super().__init__()\n",
    "        self.weight =  torch.rand\n",
    "        self.bias = "
   ]
  },
  {
   "cell_type": "code",
   "execution_count": null,
   "id": "f9f55f9e",
   "metadata": {},
   "outputs": [],
   "source": []
  },
  {
   "cell_type": "code",
   "execution_count": null,
   "id": "d3104df1",
   "metadata": {},
   "outputs": [],
   "source": []
  },
  {
   "cell_type": "code",
   "execution_count": null,
   "id": "459c0311",
   "metadata": {},
   "outputs": [],
   "source": []
  },
  {
   "cell_type": "code",
   "execution_count": null,
   "id": "c71b8e96",
   "metadata": {},
   "outputs": [],
   "source": []
  },
  {
   "cell_type": "code",
   "execution_count": null,
   "id": "f38dd0e9",
   "metadata": {},
   "outputs": [],
   "source": []
  },
  {
   "cell_type": "code",
   "execution_count": null,
   "id": "9ee578f3",
   "metadata": {},
   "outputs": [],
   "source": []
  }
 ],
 "metadata": {
  "kernelspec": {
   "display_name": "Python 3",
   "language": "python",
   "name": "python3"
  },
  "language_info": {
   "codemirror_mode": {
    "name": "ipython",
    "version": 3
   },
   "file_extension": ".py",
   "mimetype": "text/x-python",
   "name": "python",
   "nbconvert_exporter": "python",
   "pygments_lexer": "ipython3",
   "version": "3.13.0"
  }
 },
 "nbformat": 4,
 "nbformat_minor": 5
}
